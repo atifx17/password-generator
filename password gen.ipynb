{
 "cells": [
  {
   "cell_type": "code",
   "execution_count": 9,
   "metadata": {},
   "outputs": [],
   "source": [
    "from tkinter import*\n",
    "import random\n",
    "import string\n",
    "\n",
    "\n",
    "root = Tk()\n",
    "root.geometry(\"400x300\")\n",
    "root.title(\"Password Generator\")\n",
    "\n",
    "def generate_password():\n",
    "    password_length = length_entry.get()\n",
    "    if not password_length.isdigit():\n",
    "        password_output.config(text=\"Please enter a valid no.\",fg=\"red\")\n",
    "        return\n",
    "    password_length = int(password_length)  \n",
    "    if password_length < 4:\n",
    "        password_output.config(text=\"Password length must be at least 4 characters.\",fg=\"red\")\n",
    "        return\n",
    "    characters = string.ascii_letters + string.digits + string.punctuation\n",
    "    password = []\n",
    "    for i in range (password_length):\n",
    "        password+=random.choice(characters)\n",
    "\n",
    "    password_output.config(text=password,fg=\"blue\")\n",
    "\n",
    "\n",
    "length_label =Label(root, text=\"Password Length:\")\n",
    "length_label.pack()\n",
    "\n",
    "length_entry =Entry(root)\n",
    "length_entry.pack()\n",
    "\n",
    "generate_button =Button(root, text=\"Generate Password\", command=generate_password)\n",
    "generate_button.pack()\n",
    "\n",
    "p=Label(root,text=\"Password\")\n",
    "p.pack()\n",
    "password_output =Label(root, text=\"\", wraplength=250)\n",
    "password_output.pack()\n",
    "\n",
    "\n",
    "root.mainloop()\n"
   ]
  },
  {
   "cell_type": "code",
   "execution_count": null,
   "metadata": {},
   "outputs": [],
   "source": []
  }
 ],
 "metadata": {
  "kernelspec": {
   "display_name": "Python 3",
   "language": "python",
   "name": "python3"
  },
  "language_info": {
   "codemirror_mode": {
    "name": "ipython",
    "version": 3
   },
   "file_extension": ".py",
   "mimetype": "text/x-python",
   "name": "python",
   "nbconvert_exporter": "python",
   "pygments_lexer": "ipython3",
   "version": "3.11.4"
  },
  "orig_nbformat": 4
 },
 "nbformat": 4,
 "nbformat_minor": 2
}
